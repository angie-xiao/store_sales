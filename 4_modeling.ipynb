{
 "cells": [
  {
   "cell_type": "markdown",
   "metadata": {},
   "source": [
    "# Setup"
   ]
  },
  {
   "cell_type": "code",
   "execution_count": null,
   "metadata": {},
   "outputs": [],
   "source": [
    "# !pip install statsmodels\n",
    "# !pip install pmdarima\n",
    "# !pip install matplotlib\n",
    "# !pip install seaborn\n",
    "# # !pip install \"black[jupyter]\"\n",
    "# !pip3 install statsforecast\n",
    "# # !pip install prophet\n",
    "# !pip install --upgrade plotly\n",
    "# !pip install learntools\n"
   ]
  },
  {
   "cell_type": "code",
   "execution_count": 1,
   "metadata": {},
   "outputs": [
    {
     "name": "stderr",
     "output_type": "stream",
     "text": [
      "/Users/axiao/.pyenv/versions/3.8.18/lib/python3.8/site-packages/tqdm/auto.py:21: TqdmWarning: IProgress not found. Please update jupyter and ipywidgets. See https://ipywidgets.readthedocs.io/en/stable/user_install.html\n",
      "  from .autonotebook import tqdm as notebook_tqdm\n"
     ]
    }
   ],
   "source": [
    "# basic\n",
    "import sys\n",
    "from datetime import date\n",
    "import pandas as pd\n",
    "import numpy as np\n",
    "from numpy import inf\n",
    "import time \n",
    "from datetime import datetime\n",
    "\n",
    "# plotting\n",
    "from matplotlib import pyplot, dates\n",
    "import seaborn as sns\n",
    "from pandas.plotting import lag_plot\n",
    "from statsmodels.graphics.tsaplots import plot_acf, plot_pacf\n",
    "\n",
    "# Smoothing & Decomposition\n",
    "from statsmodels.tsa.seasonal import seasonal_decompose\n",
    "from statsmodels.tsa.holtwinters import SimpleExpSmoothing\n",
    "from statsmodels.tsa.holtwinters import ExponentialSmoothing\n",
    "\n",
    "# ARIMA\n",
    "import statsmodels.api as sm\n",
    "from statsmodels.tsa.stattools import acovf, acf, pacf, pacf_yw, pacf_ols\n",
    "from statsmodels.tsa.ar_model import AR, ARResults, AutoReg, ar_select_order\n",
    "from statsmodels.tsa.arima_model import ARMA, ARMAResults, ARIMAResults\n",
    "from statsmodels.tsa.arima.model import  ARIMA\n",
    "from statsmodels.tsa.statespace.sarimax import SARIMAX\n",
    "from pmdarima import auto_arima\n",
    "\n",
    "# prophet\n",
    "import prophet\n",
    "\n",
    "# forecast\n",
    "from statsforecast import StatsForecast\n",
    "\n",
    "# eval\n",
    "from sklearn.metrics import mean_squared_error\n",
    "from statsmodels.tools.eval_measures import mse, rmse, meanabs\n",
    "\n",
    "# descriptive tests\n",
    "import statsmodels.api as sm\n",
    "from statsmodels.tsa.stattools import adfuller,grangercausalitytests\n",
    "from statsmodels.graphics.tsaplots import month_plot, quarter_plot, plot_acf, plot_pacf\n",
    "\n",
    "\n",
    "# warnings\n",
    "import warnings\n",
    "warnings.filterwarnings('ignore')\n",
    "\n",
    "%matplotlib inline"
   ]
  },
  {
   "cell_type": "code",
   "execution_count": null,
   "metadata": {},
   "outputs": [],
   "source": [
    "%cd /Users/axiao/Desktop/Projects/projects/store_sales/data\n",
    "\n",
    "holidays_events = pd.read_csv('holidays_events.csv', index_col='date', parse_dates=True)\n",
    "transactions = pd.read_csv('transactions.csv',index_col='date', parse_dates=True)\n",
    "oil =  pd.read_csv('oil.csv',index_col='date', parse_dates=True)\n",
    "stores = pd.read_csv('stores.csv')\n",
    "\n",
    "train = pd.read_csv('train.csv', index_col='date', parse_dates=True)\n",
    "train_engineered = pd.read_csv('train_engineered.csv', index_col='date', parse_dates=True)  # for re-run purposes\n",
    "test = pd.read_csv('test.csv', index_col='date', parse_dates=True)"
   ]
  }
 ],
 "metadata": {
  "kernelspec": {
   "display_name": "Python 3",
   "language": "python",
   "name": "python3"
  },
  "language_info": {
   "codemirror_mode": {
    "name": "ipython",
    "version": 3
   },
   "file_extension": ".py",
   "mimetype": "text/x-python",
   "name": "python",
   "nbconvert_exporter": "python",
   "pygments_lexer": "ipython3",
   "version": "3.8.18"
  }
 },
 "nbformat": 4,
 "nbformat_minor": 2
}
